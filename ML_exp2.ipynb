{
  "nbformat": 4,
  "nbformat_minor": 0,
  "metadata": {
    "colab": {
      "name": "ML exp2.ipynb",
      "provenance": [],
      "collapsed_sections": [],
      "mount_file_id": "1fNhedw25n1RZCOsdLx_J0QcwXOuTBiEa",
      "authorship_tag": "ABX9TyMfSDF4PvtQNZ2sHsJHJO5X",
      "include_colab_link": true
    },
    "kernelspec": {
      "name": "python3",
      "display_name": "Python 3"
    },
    "language_info": {
      "name": "python"
    }
  },
  "cells": [
    {
      "cell_type": "markdown",
      "metadata": {
        "id": "view-in-github",
        "colab_type": "text"
      },
      "source": [
        "<a href=\"https://colab.research.google.com/github/har0101/JITXs/blob/main/ML_exp2.ipynb\" target=\"_parent\"><img src=\"https://colab.research.google.com/assets/colab-badge.svg\" alt=\"Open In Colab\"/></a>"
      ]
    },
    {
      "cell_type": "code",
      "execution_count": 1,
      "metadata": {
        "id": "O0Fg5Z1GAokm"
      },
      "outputs": [],
      "source": [
        "import pandas as pd ## for dataframe\n",
        "import numpy as np ## for array opreation\n",
        "import matplotlib.pyplot as plt ## for ploting data\n",
        "import seaborn as sns"
      ]
    },
    {
      "cell_type": "code",
      "source": [
        "df_data = pd.read_csv('/content/USA_Housing.csv') ##to read csv file\n",
        "df_data.head(5) ##print first 5 row of data"
      ],
      "metadata": {
        "colab": {
          "base_uri": "https://localhost:8080/",
          "height": 372
        },
        "id": "TPpfVWRkBtwR",
        "outputId": "2d3b64bd-c855-4a13-8d9e-a0e6f5ddd23b"
      },
      "execution_count": 3,
      "outputs": [
        {
          "output_type": "execute_result",
          "data": {
            "text/plain": [
              "   Avg. Area Income  Avg. Area House Age  Avg. Area Number of Rooms  \\\n",
              "0      79545.458574             5.682861                   7.009188   \n",
              "1      79248.642455             6.002900                   6.730821   \n",
              "2      61287.067179             5.865890                   8.512727   \n",
              "3      63345.240046             7.188236                   5.586729   \n",
              "4      59982.197226             5.040555                   7.839388   \n",
              "\n",
              "   Avg. Area Number of Bedrooms  Area Population         Price  \\\n",
              "0                          4.09     23086.800503  1.059034e+06   \n",
              "1                          3.09     40173.072174  1.505891e+06   \n",
              "2                          5.13     36882.159400  1.058988e+06   \n",
              "3                          3.26     34310.242831  1.260617e+06   \n",
              "4                          4.23     26354.109472  6.309435e+05   \n",
              "\n",
              "                                             Address  \n",
              "0  208 Michael Ferry Apt. 674\\nLaurabury, NE 3701...  \n",
              "1  188 Johnson Views Suite 079\\nLake Kathleen, CA...  \n",
              "2  9127 Elizabeth Stravenue\\nDanieltown, WI 06482...  \n",
              "3                          USS Barnett\\nFPO AP 44820  \n",
              "4                         USNS Raymond\\nFPO AE 09386  "
            ],
            "text/html": [
              "\n",
              "  <div id=\"df-970331ce-134a-496d-821a-8f05eab8749f\">\n",
              "    <div class=\"colab-df-container\">\n",
              "      <div>\n",
              "<style scoped>\n",
              "    .dataframe tbody tr th:only-of-type {\n",
              "        vertical-align: middle;\n",
              "    }\n",
              "\n",
              "    .dataframe tbody tr th {\n",
              "        vertical-align: top;\n",
              "    }\n",
              "\n",
              "    .dataframe thead th {\n",
              "        text-align: right;\n",
              "    }\n",
              "</style>\n",
              "<table border=\"1\" class=\"dataframe\">\n",
              "  <thead>\n",
              "    <tr style=\"text-align: right;\">\n",
              "      <th></th>\n",
              "      <th>Avg. Area Income</th>\n",
              "      <th>Avg. Area House Age</th>\n",
              "      <th>Avg. Area Number of Rooms</th>\n",
              "      <th>Avg. Area Number of Bedrooms</th>\n",
              "      <th>Area Population</th>\n",
              "      <th>Price</th>\n",
              "      <th>Address</th>\n",
              "    </tr>\n",
              "  </thead>\n",
              "  <tbody>\n",
              "    <tr>\n",
              "      <th>0</th>\n",
              "      <td>79545.458574</td>\n",
              "      <td>5.682861</td>\n",
              "      <td>7.009188</td>\n",
              "      <td>4.09</td>\n",
              "      <td>23086.800503</td>\n",
              "      <td>1.059034e+06</td>\n",
              "      <td>208 Michael Ferry Apt. 674\\nLaurabury, NE 3701...</td>\n",
              "    </tr>\n",
              "    <tr>\n",
              "      <th>1</th>\n",
              "      <td>79248.642455</td>\n",
              "      <td>6.002900</td>\n",
              "      <td>6.730821</td>\n",
              "      <td>3.09</td>\n",
              "      <td>40173.072174</td>\n",
              "      <td>1.505891e+06</td>\n",
              "      <td>188 Johnson Views Suite 079\\nLake Kathleen, CA...</td>\n",
              "    </tr>\n",
              "    <tr>\n",
              "      <th>2</th>\n",
              "      <td>61287.067179</td>\n",
              "      <td>5.865890</td>\n",
              "      <td>8.512727</td>\n",
              "      <td>5.13</td>\n",
              "      <td>36882.159400</td>\n",
              "      <td>1.058988e+06</td>\n",
              "      <td>9127 Elizabeth Stravenue\\nDanieltown, WI 06482...</td>\n",
              "    </tr>\n",
              "    <tr>\n",
              "      <th>3</th>\n",
              "      <td>63345.240046</td>\n",
              "      <td>7.188236</td>\n",
              "      <td>5.586729</td>\n",
              "      <td>3.26</td>\n",
              "      <td>34310.242831</td>\n",
              "      <td>1.260617e+06</td>\n",
              "      <td>USS Barnett\\nFPO AP 44820</td>\n",
              "    </tr>\n",
              "    <tr>\n",
              "      <th>4</th>\n",
              "      <td>59982.197226</td>\n",
              "      <td>5.040555</td>\n",
              "      <td>7.839388</td>\n",
              "      <td>4.23</td>\n",
              "      <td>26354.109472</td>\n",
              "      <td>6.309435e+05</td>\n",
              "      <td>USNS Raymond\\nFPO AE 09386</td>\n",
              "    </tr>\n",
              "  </tbody>\n",
              "</table>\n",
              "</div>\n",
              "      <button class=\"colab-df-convert\" onclick=\"convertToInteractive('df-970331ce-134a-496d-821a-8f05eab8749f')\"\n",
              "              title=\"Convert this dataframe to an interactive table.\"\n",
              "              style=\"display:none;\">\n",
              "        \n",
              "  <svg xmlns=\"http://www.w3.org/2000/svg\" height=\"24px\"viewBox=\"0 0 24 24\"\n",
              "       width=\"24px\">\n",
              "    <path d=\"M0 0h24v24H0V0z\" fill=\"none\"/>\n",
              "    <path d=\"M18.56 5.44l.94 2.06.94-2.06 2.06-.94-2.06-.94-.94-2.06-.94 2.06-2.06.94zm-11 1L8.5 8.5l.94-2.06 2.06-.94-2.06-.94L8.5 2.5l-.94 2.06-2.06.94zm10 10l.94 2.06.94-2.06 2.06-.94-2.06-.94-.94-2.06-.94 2.06-2.06.94z\"/><path d=\"M17.41 7.96l-1.37-1.37c-.4-.4-.92-.59-1.43-.59-.52 0-1.04.2-1.43.59L10.3 9.45l-7.72 7.72c-.78.78-.78 2.05 0 2.83L4 21.41c.39.39.9.59 1.41.59.51 0 1.02-.2 1.41-.59l7.78-7.78 2.81-2.81c.8-.78.8-2.07 0-2.86zM5.41 20L4 18.59l7.72-7.72 1.47 1.35L5.41 20z\"/>\n",
              "  </svg>\n",
              "      </button>\n",
              "      \n",
              "  <style>\n",
              "    .colab-df-container {\n",
              "      display:flex;\n",
              "      flex-wrap:wrap;\n",
              "      gap: 12px;\n",
              "    }\n",
              "\n",
              "    .colab-df-convert {\n",
              "      background-color: #E8F0FE;\n",
              "      border: none;\n",
              "      border-radius: 50%;\n",
              "      cursor: pointer;\n",
              "      display: none;\n",
              "      fill: #1967D2;\n",
              "      height: 32px;\n",
              "      padding: 0 0 0 0;\n",
              "      width: 32px;\n",
              "    }\n",
              "\n",
              "    .colab-df-convert:hover {\n",
              "      background-color: #E2EBFA;\n",
              "      box-shadow: 0px 1px 2px rgba(60, 64, 67, 0.3), 0px 1px 3px 1px rgba(60, 64, 67, 0.15);\n",
              "      fill: #174EA6;\n",
              "    }\n",
              "\n",
              "    [theme=dark] .colab-df-convert {\n",
              "      background-color: #3B4455;\n",
              "      fill: #D2E3FC;\n",
              "    }\n",
              "\n",
              "    [theme=dark] .colab-df-convert:hover {\n",
              "      background-color: #434B5C;\n",
              "      box-shadow: 0px 1px 3px 1px rgba(0, 0, 0, 0.15);\n",
              "      filter: drop-shadow(0px 1px 2px rgba(0, 0, 0, 0.3));\n",
              "      fill: #FFFFFF;\n",
              "    }\n",
              "  </style>\n",
              "\n",
              "      <script>\n",
              "        const buttonEl =\n",
              "          document.querySelector('#df-970331ce-134a-496d-821a-8f05eab8749f button.colab-df-convert');\n",
              "        buttonEl.style.display =\n",
              "          google.colab.kernel.accessAllowed ? 'block' : 'none';\n",
              "\n",
              "        async function convertToInteractive(key) {\n",
              "          const element = document.querySelector('#df-970331ce-134a-496d-821a-8f05eab8749f');\n",
              "          const dataTable =\n",
              "            await google.colab.kernel.invokeFunction('convertToInteractive',\n",
              "                                                     [key], {});\n",
              "          if (!dataTable) return;\n",
              "\n",
              "          const docLinkHtml = 'Like what you see? Visit the ' +\n",
              "            '<a target=\"_blank\" href=https://colab.research.google.com/notebooks/data_table.ipynb>data table notebook</a>'\n",
              "            + ' to learn more about interactive tables.';\n",
              "          element.innerHTML = '';\n",
              "          dataTable['output_type'] = 'display_data';\n",
              "          await google.colab.output.renderOutput(dataTable, element);\n",
              "          const docLink = document.createElement('div');\n",
              "          docLink.innerHTML = docLinkHtml;\n",
              "          element.appendChild(docLink);\n",
              "        }\n",
              "      </script>\n",
              "    </div>\n",
              "  </div>\n",
              "  "
            ]
          },
          "metadata": {},
          "execution_count": 3
        }
      ]
    },
    {
      "cell_type": "code",
      "source": [
        "df_data.info() ## info about data -- whether any value is empty of the data type of column "
      ],
      "metadata": {
        "colab": {
          "base_uri": "https://localhost:8080/"
        },
        "id": "pvKwkWrcCLKz",
        "outputId": "9cad58df-9926-4b4c-c88c-afcd06a54d77"
      },
      "execution_count": 4,
      "outputs": [
        {
          "output_type": "stream",
          "name": "stdout",
          "text": [
            "<class 'pandas.core.frame.DataFrame'>\n",
            "RangeIndex: 5000 entries, 0 to 4999\n",
            "Data columns (total 7 columns):\n",
            " #   Column                        Non-Null Count  Dtype  \n",
            "---  ------                        --------------  -----  \n",
            " 0   Avg. Area Income              5000 non-null   float64\n",
            " 1   Avg. Area House Age           5000 non-null   float64\n",
            " 2   Avg. Area Number of Rooms     5000 non-null   float64\n",
            " 3   Avg. Area Number of Bedrooms  5000 non-null   float64\n",
            " 4   Area Population               5000 non-null   float64\n",
            " 5   Price                         5000 non-null   float64\n",
            " 6   Address                       5000 non-null   object \n",
            "dtypes: float64(6), object(1)\n",
            "memory usage: 273.6+ KB\n"
          ]
        }
      ]
    },
    {
      "cell_type": "markdown",
      "source": [
        "## as you can see data is clean"
      ],
      "metadata": {
        "id": "_DfIIHG2Cwdb"
      }
    },
    {
      "cell_type": "code",
      "source": [
        "## variable we are working and they all are float\n",
        "\n",
        "X = df_data[['Avg. Area Income', 'Avg. Area House Age', 'Avg. Area Number of Rooms','Avg. Area Number of Bedrooms', 'Area Population']]\n",
        "\n",
        "## price is what we are gonna predict with respect to above variable\n",
        "\n",
        "y = df_data['Price']"
      ],
      "metadata": {
        "id": "nLQy7yXeE2lL"
      },
      "execution_count": 10,
      "outputs": []
    },
    {
      "cell_type": "code",
      "source": [
        "from sklearn.model_selection import train_test_split ##first thing for train program is to split the train data and test data\n",
        "X_train, X_test, y_train, y_test = train_test_split(X, y, test_size=0.10) ## here we split data in 90% 10% for train and test restpectivly by using inbiult function train_test_split"
      ],
      "metadata": {
        "id": "7339m0OiFJfW"
      },
      "execution_count": 11,
      "outputs": []
    },
    {
      "cell_type": "code",
      "source": [
        "np.shape(X_test) ## no. of data (r c) gonna use in test "
      ],
      "metadata": {
        "colab": {
          "base_uri": "https://localhost:8080/"
        },
        "id": "SAmRByWSGLMf",
        "outputId": "532b89e5-2ca7-4ffb-ba8a-21844db29885"
      },
      "execution_count": 14,
      "outputs": [
        {
          "output_type": "execute_result",
          "data": {
            "text/plain": [
              "(500, 5)"
            ]
          },
          "metadata": {},
          "execution_count": 14
        }
      ]
    },
    {
      "cell_type": "code",
      "source": [
        "np.shape(X_train) ## no. of data (r c) gonna use in train "
      ],
      "metadata": {
        "colab": {
          "base_uri": "https://localhost:8080/"
        },
        "id": "wHDcsMyLGZ6w",
        "outputId": "99842941-d966-48ef-cd72-4af7d01a4d0e"
      },
      "execution_count": 16,
      "outputs": [
        {
          "output_type": "execute_result",
          "data": {
            "text/plain": [
              "(4500, 5)"
            ]
          },
          "metadata": {},
          "execution_count": 16
        }
      ]
    },
    {
      "cell_type": "code",
      "source": [
        "from sklearn.linear_model import LinearRegression ##importing the Linear Regression Algorithm "
      ],
      "metadata": {
        "id": "kMeVaDhIGs7Z"
      },
      "execution_count": 17,
      "outputs": []
    },
    {
      "cell_type": "code",
      "source": [
        "lm = LinearRegression() ##creating LinearRegression Object"
      ],
      "metadata": {
        "id": "54U_TRqBG83K"
      },
      "execution_count": 18,
      "outputs": []
    },
    {
      "cell_type": "code",
      "source": [
        "lm.fit(X_train, y_train) ##Training the program"
      ],
      "metadata": {
        "colab": {
          "base_uri": "https://localhost:8080/"
        },
        "id": "5LxU_-2NHFuO",
        "outputId": "e32f56fa-15e8-4e36-e4b1-588e95a482e9"
      },
      "execution_count": 19,
      "outputs": [
        {
          "output_type": "execute_result",
          "data": {
            "text/plain": [
              "LinearRegression()"
            ]
          },
          "metadata": {},
          "execution_count": 19
        }
      ]
    },
    {
      "cell_type": "code",
      "source": [
        "print(lm.intercept_) ##direct finding tetha0 value using in biult lm(LinearRegression)"
      ],
      "metadata": {
        "colab": {
          "base_uri": "https://localhost:8080/"
        },
        "id": "YhL5NOjdHVqA",
        "outputId": "c04b3593-4873-4941-9b53-2b39abd771fa"
      },
      "execution_count": 20,
      "outputs": [
        {
          "output_type": "stream",
          "name": "stdout",
          "text": [
            "-2635453.264475721\n"
          ]
        }
      ]
    },
    {
      "cell_type": "code",
      "source": [
        "coeff_df = pd.DataFrame(lm.coef_, X.columns, columns=['Coefficient']) ## other coeff ... n\n",
        "coeff_df"
      ],
      "metadata": {
        "colab": {
          "base_uri": "https://localhost:8080/",
          "height": 206
        },
        "id": "xi6g-pcyHwGn",
        "outputId": "f98e87b3-99f1-4884-d8be-2b4528aeed16"
      },
      "execution_count": 21,
      "outputs": [
        {
          "output_type": "execute_result",
          "data": {
            "text/plain": [
              "                                Coefficient\n",
              "Avg. Area Income                  21.528745\n",
              "Avg. Area House Age           166422.612044\n",
              "Avg. Area Number of Rooms     120690.185732\n",
              "Avg. Area Number of Bedrooms    1567.329895\n",
              "Area Population                   15.136126"
            ],
            "text/html": [
              "\n",
              "  <div id=\"df-0617b2c5-f09e-45ee-b93f-4ba7430c49f4\">\n",
              "    <div class=\"colab-df-container\">\n",
              "      <div>\n",
              "<style scoped>\n",
              "    .dataframe tbody tr th:only-of-type {\n",
              "        vertical-align: middle;\n",
              "    }\n",
              "\n",
              "    .dataframe tbody tr th {\n",
              "        vertical-align: top;\n",
              "    }\n",
              "\n",
              "    .dataframe thead th {\n",
              "        text-align: right;\n",
              "    }\n",
              "</style>\n",
              "<table border=\"1\" class=\"dataframe\">\n",
              "  <thead>\n",
              "    <tr style=\"text-align: right;\">\n",
              "      <th></th>\n",
              "      <th>Coefficient</th>\n",
              "    </tr>\n",
              "  </thead>\n",
              "  <tbody>\n",
              "    <tr>\n",
              "      <th>Avg. Area Income</th>\n",
              "      <td>21.528745</td>\n",
              "    </tr>\n",
              "    <tr>\n",
              "      <th>Avg. Area House Age</th>\n",
              "      <td>166422.612044</td>\n",
              "    </tr>\n",
              "    <tr>\n",
              "      <th>Avg. Area Number of Rooms</th>\n",
              "      <td>120690.185732</td>\n",
              "    </tr>\n",
              "    <tr>\n",
              "      <th>Avg. Area Number of Bedrooms</th>\n",
              "      <td>1567.329895</td>\n",
              "    </tr>\n",
              "    <tr>\n",
              "      <th>Area Population</th>\n",
              "      <td>15.136126</td>\n",
              "    </tr>\n",
              "  </tbody>\n",
              "</table>\n",
              "</div>\n",
              "      <button class=\"colab-df-convert\" onclick=\"convertToInteractive('df-0617b2c5-f09e-45ee-b93f-4ba7430c49f4')\"\n",
              "              title=\"Convert this dataframe to an interactive table.\"\n",
              "              style=\"display:none;\">\n",
              "        \n",
              "  <svg xmlns=\"http://www.w3.org/2000/svg\" height=\"24px\"viewBox=\"0 0 24 24\"\n",
              "       width=\"24px\">\n",
              "    <path d=\"M0 0h24v24H0V0z\" fill=\"none\"/>\n",
              "    <path d=\"M18.56 5.44l.94 2.06.94-2.06 2.06-.94-2.06-.94-.94-2.06-.94 2.06-2.06.94zm-11 1L8.5 8.5l.94-2.06 2.06-.94-2.06-.94L8.5 2.5l-.94 2.06-2.06.94zm10 10l.94 2.06.94-2.06 2.06-.94-2.06-.94-.94-2.06-.94 2.06-2.06.94z\"/><path d=\"M17.41 7.96l-1.37-1.37c-.4-.4-.92-.59-1.43-.59-.52 0-1.04.2-1.43.59L10.3 9.45l-7.72 7.72c-.78.78-.78 2.05 0 2.83L4 21.41c.39.39.9.59 1.41.59.51 0 1.02-.2 1.41-.59l7.78-7.78 2.81-2.81c.8-.78.8-2.07 0-2.86zM5.41 20L4 18.59l7.72-7.72 1.47 1.35L5.41 20z\"/>\n",
              "  </svg>\n",
              "      </button>\n",
              "      \n",
              "  <style>\n",
              "    .colab-df-container {\n",
              "      display:flex;\n",
              "      flex-wrap:wrap;\n",
              "      gap: 12px;\n",
              "    }\n",
              "\n",
              "    .colab-df-convert {\n",
              "      background-color: #E8F0FE;\n",
              "      border: none;\n",
              "      border-radius: 50%;\n",
              "      cursor: pointer;\n",
              "      display: none;\n",
              "      fill: #1967D2;\n",
              "      height: 32px;\n",
              "      padding: 0 0 0 0;\n",
              "      width: 32px;\n",
              "    }\n",
              "\n",
              "    .colab-df-convert:hover {\n",
              "      background-color: #E2EBFA;\n",
              "      box-shadow: 0px 1px 2px rgba(60, 64, 67, 0.3), 0px 1px 3px 1px rgba(60, 64, 67, 0.15);\n",
              "      fill: #174EA6;\n",
              "    }\n",
              "\n",
              "    [theme=dark] .colab-df-convert {\n",
              "      background-color: #3B4455;\n",
              "      fill: #D2E3FC;\n",
              "    }\n",
              "\n",
              "    [theme=dark] .colab-df-convert:hover {\n",
              "      background-color: #434B5C;\n",
              "      box-shadow: 0px 1px 3px 1px rgba(0, 0, 0, 0.15);\n",
              "      filter: drop-shadow(0px 1px 2px rgba(0, 0, 0, 0.3));\n",
              "      fill: #FFFFFF;\n",
              "    }\n",
              "  </style>\n",
              "\n",
              "      <script>\n",
              "        const buttonEl =\n",
              "          document.querySelector('#df-0617b2c5-f09e-45ee-b93f-4ba7430c49f4 button.colab-df-convert');\n",
              "        buttonEl.style.display =\n",
              "          google.colab.kernel.accessAllowed ? 'block' : 'none';\n",
              "\n",
              "        async function convertToInteractive(key) {\n",
              "          const element = document.querySelector('#df-0617b2c5-f09e-45ee-b93f-4ba7430c49f4');\n",
              "          const dataTable =\n",
              "            await google.colab.kernel.invokeFunction('convertToInteractive',\n",
              "                                                     [key], {});\n",
              "          if (!dataTable) return;\n",
              "\n",
              "          const docLinkHtml = 'Like what you see? Visit the ' +\n",
              "            '<a target=\"_blank\" href=https://colab.research.google.com/notebooks/data_table.ipynb>data table notebook</a>'\n",
              "            + ' to learn more about interactive tables.';\n",
              "          element.innerHTML = '';\n",
              "          dataTable['output_type'] = 'display_data';\n",
              "          await google.colab.output.renderOutput(dataTable, element);\n",
              "          const docLink = document.createElement('div');\n",
              "          docLink.innerHTML = docLinkHtml;\n",
              "          element.appendChild(docLink);\n",
              "        }\n",
              "      </script>\n",
              "    </div>\n",
              "  </div>\n",
              "  "
            ]
          },
          "metadata": {},
          "execution_count": 21
        }
      ]
    },
    {
      "cell_type": "code",
      "source": [
        "predictions = lm.predict(X_test) ## predicting the price for 500 test data\n",
        "print(predictions)\n",
        "print(np.shape(predictions))"
      ],
      "metadata": {
        "colab": {
          "base_uri": "https://localhost:8080/"
        },
        "id": "lIyAFRKZIT3W",
        "outputId": "eddf39d0-019c-44f8-dda0-1f858b439bd2"
      },
      "execution_count": 22,
      "outputs": [
        {
          "output_type": "stream",
          "name": "stdout",
          "text": [
            "[1326854.73794015  844668.26767648 1033850.09816376 1052848.22091497\n",
            "  637372.44760618 1522770.02766435 1340765.06748474 1770693.99232036\n",
            " 1196177.19246986 1365288.43856609 1028285.20447842 1393022.52549098\n",
            " 1192507.06732733 1113897.7029396  1840896.96416279 1269018.80661287\n",
            " 1100440.33806927 1354666.91334861  912690.85565914 1190579.53029735\n",
            "  550011.57787536 1740541.05650648 1079520.60074628  904905.4498726\n",
            " 1147161.42514096 1465407.4719659  1130549.60132555 1066041.06221457\n",
            " 1290588.40564382 1438967.21544002 1273464.89868399 1219417.13500113\n",
            "  997074.28373338 1282776.33672768  622470.08146184 1477249.58548542\n",
            " 1178232.40448797 1190196.93702583 1202547.48095906 1145940.41389251\n",
            " 1234041.25380925 1259585.68883186  910889.70448502 1458364.50625726\n",
            " 1190816.28938848 1018500.55471447 1119494.4847269  1672828.27487695\n",
            "  906946.51929726 1096882.59686378 1500278.01735013 1482521.08240621\n",
            " 1347452.88743368 1415087.68014877 1854055.5039145  1327982.22199144\n",
            " 1027084.67248084 1291337.46270506 1283338.7120444  1359869.56743254\n",
            " 1272570.09143537  776864.3752047  1232433.16035452 1449350.70677322\n",
            " 1596739.06239193 1220538.69342224 1061262.31281206  743288.10266063\n",
            " 1649635.02270543 1100654.35436393 1321929.95015543  812848.19310459\n",
            " 1249661.87182622 1038535.82640243 1553687.06885719 1600912.45647914\n",
            " 1841429.423287   1167968.10875399 1433798.40382315  743851.40634029\n",
            "  501014.57607722 1698397.37255982  784495.26997028 1472417.63061379\n",
            " 1431509.56294239 1306006.29330004  930093.53264356 1426289.06718986\n",
            " 1125876.01757915 1151002.80802319 1450988.33446428 1580953.93232173\n",
            "  621660.35448154 1037592.36218944  531892.9536944  1084288.43325445\n",
            " 1399311.84996327 1034361.59507991 1141307.40216528 1037694.23804815\n",
            "  698956.60609998 1286244.23816473 1236495.26836815 1347531.16790454\n",
            "  955905.44092341  541281.44461742  879039.37464002  978480.21080422\n",
            "  998095.59234118 1990100.34667883  898491.9664363  1670876.12982784\n",
            " 1465770.93389622  734010.1254309  1098034.7970171  1166555.03644922\n",
            " 1521729.1222133  1455226.95168805  875984.83230256 1061424.14992556\n",
            "  936872.35479896 1709308.85809209 1495861.0960042  1150269.23725904\n",
            " 1102865.05785389 1455508.99549504 1321984.55702633 1457058.10893802\n",
            "  876513.50718495 1475062.66593032 1319574.590941   1622964.79785021\n",
            " 1685464.91321194  924271.38116091 1435043.94828605 1640012.59049341\n",
            " 1100247.45096818 1134429.21713054 1002498.04501381 1282458.70880125\n",
            " 1766747.407175   1627602.64578096  800248.41367604 1100933.61255878\n",
            " 1466921.97905017  764286.75900095  928075.01356733  634468.02557995\n",
            " 1409793.90847499  973971.58483223  799225.58719033  977720.3800926\n",
            " 1392473.66921184 1464037.29084868 1479665.69054667 1128609.12876072\n",
            " 1097854.54437878 1700695.30431668 1550867.7389384  1549190.2884743\n",
            " 1188408.25271927 1287512.97560878  969527.35458536 1773219.97457781\n",
            "  728620.37954461 1765712.83368889  955619.89748958  841681.16331214\n",
            " 1122460.8070638  1664170.39232053  841421.51302907  978793.12650604\n",
            " 1558981.94048472 1271798.33134214  889914.52164984  891088.57949181\n",
            "  936382.27894781  845282.32142213 1312216.49808931 1309186.66410134\n",
            " 1314626.51255058 1586998.08691229  859097.4265788  1565250.37021274\n",
            "  486694.63776215 1233509.02142554 1242707.66798366 1581788.04188914\n",
            " 1605632.9606908   858366.98081181 1355698.28786752 1261221.11251544\n",
            " 1539873.2926581  1017498.69744992  969489.5381348  1472346.79328037\n",
            "  965081.66591735 1281145.4629526  1539651.73110254 1074535.58195075\n",
            " 1087483.82657735  834177.08756346 1691841.05031077 1256608.28647498\n",
            " 1616839.207822   1312758.39478534 1360455.92311119  624052.74629584\n",
            " 1045840.86608043 1647237.01842318 1136995.19574555 1025291.91078837\n",
            " 1237289.59250469 1322293.29447403 1891291.12359703  904993.88501011\n",
            "  918700.0715958  1196117.9005577  1536617.93068119 1212371.03540191\n",
            " 1636290.34479947 1752699.91005343  781043.0022017  1224480.19811355\n",
            " 1403032.90367875  788945.80644466  620867.23111659  972966.55386052\n",
            "  740337.53777036 1149584.15810978  934046.36321453 1308546.6272186\n",
            " 1243914.62921544 1192782.13627409 1036993.55384993 1562247.66455834\n",
            "  921391.16908919 1737907.56243137 1715618.14441425 1520604.27575779\n",
            " 1093481.6665931  1488635.62397896 1403947.21476922  854221.39646056\n",
            " 1665918.04302409 1245129.26103474  645002.26492002 1447459.0048241\n",
            " 1511532.93100666 1487680.49070682 1546484.40558198  591244.84661984\n",
            " 1451679.66144418 1766111.18888707 1147192.72439024  772855.24316443\n",
            " 1500174.35225464 1851457.35570084 1052746.68732085 1136946.26462758\n",
            "  639050.33671567  688626.86414563 1466277.12213919 1725299.7913306\n",
            "  885790.225163   1351275.92586866 1051368.20527703 1326405.47459742\n",
            " 1104411.58869077 1046230.11837699 2000055.91090513  596504.10284291\n",
            " 1394007.09487072  968075.39770523 1010604.05656031 1735842.08889549\n",
            " 1495491.42976876 1371974.49613484 1218160.09056893 1316210.9389074\n",
            "  978814.95939815 1712397.73709243 1568222.79552705 1423693.15220227\n",
            " 1054822.38413136 1409801.73692699 1360766.76910408 1265802.73008533\n",
            "  777753.08109805  862075.76077345 1252469.50187429  774386.24271851\n",
            " 1339446.46180501 1066805.10902508 1352854.51683206  615026.98432675\n",
            " 1004364.51570931 1353528.33531404  802806.4332966  1270322.31423711\n",
            " 1192462.79955029 1303096.27933568 1731460.23202114 1055911.45772373\n",
            " 1151789.93408011 1341914.99300494 1713966.35136454 1264251.08233557\n",
            "  961580.0222259  1133423.7320426  1356068.28346091 1814699.94289424\n",
            " 1230823.35733459 1386756.52921121 1123172.29837693  224273.14154101\n",
            " 1346178.45853287 1920682.23095436 1334724.61319035 1190601.23086591\n",
            " 1696911.59362579 1393942.37327501  950525.24956514 1360454.14183721\n",
            " 1548937.18173779  495695.24978803 1654769.41083077 1581030.90998305\n",
            " 1278384.19121413 1360268.1458133  1058628.90539097  886256.90802493\n",
            " 1323347.36918148 1125889.56247294 1417370.69180215  896725.5255442\n",
            "  750986.78403832 1625142.58198396 1130415.04261552 1723916.229802\n",
            "  685256.41733039  757437.44570707  736762.48244242 2290362.77113664\n",
            " 1852441.17477555 1058579.51081242  888710.53725198 1347520.04743145\n",
            " 1311737.79432647  996711.56369244 1075978.04311286  679279.4235895\n",
            " 1119249.15541826 1292137.68171742  727804.74006125 1677550.92968914\n",
            " 1684446.26337221 1305037.89344127 1063073.59510545 1128928.95748747\n",
            " 1056448.99849924 1803713.28610045  343786.09018254 1637431.2130798\n",
            "  900142.82365327 1044706.73011513 1189204.36394585  908999.67498226\n",
            " 1411099.17858367 1487469.61264535 1379186.84148614 1390822.41707166\n",
            "  988083.45249193 1340292.01643212 1092360.36647533 1756938.66423296\n",
            " 1045551.58534218  793897.79985109  833485.87581927 1245201.10024329\n",
            " 1421002.22310848 1736299.50335133 1407070.36630067  691121.067758\n",
            " 1307224.32301579 1494940.5637905  1288577.99990803 1246562.39846873\n",
            " 1098893.66908327 1223757.49274689 1445811.65383134  990182.28598196\n",
            " 1089793.40711374 1033275.12881498 1848885.13274227 1859190.42129754\n",
            " 1010460.40443411 1080761.48630475 2120686.79281283  885862.99135563\n",
            "  645201.24885394 1339767.77443038 1405878.83932543 1211046.93226707\n",
            "  853774.80675155  974146.01688495 1545299.70896591 1070727.37653913\n",
            " 1968160.91922564 1625860.60482488  939497.84833386  469806.73578857\n",
            " 1616861.83560691 1689119.38711839 1322171.71766591 1007801.25489862\n",
            " 1487440.93103975 1391062.11501759 1569185.11342837  813845.59925693\n",
            " 1579166.5744699   510286.42741838  934615.76681757 2186687.140706\n",
            " 1540247.39754882 1871112.48479128 1298626.48450557  873933.02989022\n",
            " 1115832.07750704 1255964.75718532 1086723.76046904 1025688.13043663\n",
            " 1509425.93152755 1344348.82555902  612328.27278509 1731729.64674308\n",
            " 1326121.52460185 1049353.43992911 1873443.86013053 1318651.77729909\n",
            " 1060584.63477207 1784019.44321651 1769925.35239629 1346431.25930667\n",
            "  782848.12951975  760154.07077563 1301567.34463789 1378567.38051705\n",
            " 1355034.60892866 1013791.37667747 1842532.06724802 1052310.86398596\n",
            " 1950293.09004782 1445515.03620778  426845.53325858 1656211.65793426\n",
            " 1362108.35963382  586081.79515579 1305864.82444408 1270269.63829531\n",
            "  716878.95207355 1108804.02877001  953391.02812085 1000564.370681\n",
            " 1750394.21892798 1073620.75456487 1466682.40627192 1323532.59798619\n",
            " 1483437.65797585  917394.79517234 1475435.34534432 1146659.74058671\n",
            " 1365210.25038199 1509854.30067122 1222761.39239896  841764.95506622\n",
            " 1079076.47115922  777138.74267879 1535622.77880006 1046233.93991406\n",
            " 1661421.42760283 1122604.86317019 1174481.36265086 1649002.44501352\n",
            "  750717.10247971 1808342.46341708  571515.30071657 1421465.45932939\n",
            " 1585348.94212402 1567393.35104909  873258.37514464 1044736.84484132\n",
            " 1195649.35762122 1955859.41264332 1038542.26949977 1091104.07242946\n",
            " 1122800.23134911 1108895.77285129 1677340.86837239 1480292.81245299]\n",
            "(500,)\n"
          ]
        }
      ]
    },
    {
      "cell_type": "code",
      "source": [
        "plt.scatter(y_test, predictions, edgecolor='black') ##ploting the graph using matplotlib\n",
        "plt.xlabel('actual')\n",
        "plt.ylabel('predicted')"
      ],
      "metadata": {
        "colab": {
          "base_uri": "https://localhost:8080/",
          "height": 307
        },
        "id": "E5Or2-U7IjRP",
        "outputId": "70fce902-a3f5-4b98-89d2-edb8911b6eac"
      },
      "execution_count": 23,
      "outputs": [
        {
          "output_type": "execute_result",
          "data": {
            "text/plain": [
              "Text(0, 0.5, 'predicted')"
            ]
          },
          "metadata": {},
          "execution_count": 23
        },
        {
          "output_type": "display_data",
          "data": {
            "text/plain": [
              "<Figure size 432x288 with 1 Axes>"
            ],
            "image/png": "[encoded data removed]"
          },
          "metadata": {
            "needs_background": "light"
          }
        }
      ]
    },
    {
      "cell_type": "code",
      "source": [
        "import seaborn as sns\n",
        "sns.distplot((y_test - predictions), bins = 50, hist_kws=dict(edgecolor=\"black\", linewidth=1),color='Blue')"
      ],
      "metadata": {
        "colab": {
          "base_uri": "https://localhost:8080/",
          "height": 362
        },
        "id": "O0xLTfDEKuhA",
        "outputId": "ffbb6f44-3073-4533-ef17-952c7d0609b5"
      },
      "execution_count": 25,
      "outputs": [
        {
          "output_type": "stream",
          "name": "stderr",
          "text": [
            "/usr/local/lib/python3.7/dist-packages/seaborn/distributions.py:2619: FutureWarning: `distplot` is a deprecated function and will be removed in a future version. Please adapt your code to use either `displot` (a figure-level function with similar flexibility) or `histplot` (an axes-level function for histograms).\n",
            "  warnings.warn(msg, FutureWarning)\n"
          ]
        },
        {
          "output_type": "execute_result",
          "data": {
            "text/plain": [
              "<matplotlib.axes._subplots.AxesSubplot at 0x7fb629a063d0>"
            ]
          },
          "metadata": {},
          "execution_count": 25
        },
        {
          "output_type": "display_data",
          "data": {
            "text/plain": [
              "<Figure size 432x288 with 1 Axes>"
            ],
            "image/png": "[encoded data removed]"
          },
          "metadata": {
            "needs_background": "light"
          }
        }
      ]
    },
    {
      "cell_type": "markdown",
      "source": [
        "\n",
        "\n",
        "```\n",
        "# \n",
        "```\n",
        "\n"
      ],
      "metadata": {
        "id": "uAAaPz_JK0Mq"
      }
    }
  ]
}